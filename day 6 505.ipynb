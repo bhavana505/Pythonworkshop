{
 "cells": [
  {
   "cell_type": "markdown",
   "metadata": {},
   "source": [
    "### regular expressions:\n",
    "+ **validating data**\n",
    "+ to check the data is valid or not.\n",
    "+ Here methods are **search**,**match**,**findall**.\n",
    "+ **syntax:**\n",
    "+ re.methodname(pattern,data).\n",
    "+ here pattern is a required output or required data outout.\n",
    "+ here data is given values.\n",
    "##### special characters:\n",
    "1. **.(dot):** \n",
    "+ it matches any single character.\n",
    "2. ***(start):**\n",
    "+ it represents the min value is zero and max value is optional.\n",
    "3. **+(plus):**\n",
    "+ here min is 0 and any be the max.\n",
    "4. **^(cap):** start with.\n",
    "5. **dollar:**\n",
    "+ ends with.\n",
    "6. **\\d:**\n",
    "+ digits.\n",
    "7. **[]:**\n",
    "+  specific values.\n",
    "8. **{min,max}:**\n",
    "+ min to max values.\n",
    "\n",
    "\n",
    "                                                                           "
   ]
  },
  {
   "cell_type": "code",
   "execution_count": 7,
   "metadata": {},
   "outputs": [
    {
     "name": "stdout",
     "output_type": "stream",
     "text": [
      "aca\n",
      "aaa\n",
      "abca\n"
     ]
    }
   ],
   "source": [
    "l=['abc','aca','adc','aaa','abca']\n",
    "for i in l:\n",
    "    if i.endswith('a') and i.startswith('a'):\n",
    "        print(i)\n",
    "    \n",
    "    \n"
   ]
  },
  {
   "cell_type": "code",
   "execution_count": 5,
   "metadata": {},
   "outputs": [],
   "source": [
    "import re"
   ]
  },
  {
   "cell_type": "code",
   "execution_count": 10,
   "metadata": {},
   "outputs": [
    {
     "data": {
      "text/plain": [
       "['A',\n",
       " 'ASCII',\n",
       " 'DEBUG',\n",
       " 'DOTALL',\n",
       " 'I',\n",
       " 'IGNORECASE',\n",
       " 'L',\n",
       " 'LOCALE',\n",
       " 'M',\n",
       " 'MULTILINE',\n",
       " 'RegexFlag',\n",
       " 'S',\n",
       " 'Scanner',\n",
       " 'T',\n",
       " 'TEMPLATE',\n",
       " 'U',\n",
       " 'UNICODE',\n",
       " 'VERBOSE',\n",
       " 'X',\n",
       " '_MAXCACHE',\n",
       " '__all__',\n",
       " '__builtins__',\n",
       " '__cached__',\n",
       " '__doc__',\n",
       " '__file__',\n",
       " '__loader__',\n",
       " '__name__',\n",
       " '__package__',\n",
       " '__spec__',\n",
       " '__version__',\n",
       " '_alphanum_bytes',\n",
       " '_alphanum_str',\n",
       " '_cache',\n",
       " '_compile',\n",
       " '_compile_repl',\n",
       " '_expand',\n",
       " '_locale',\n",
       " '_pattern_type',\n",
       " '_pickle',\n",
       " '_subx',\n",
       " 'compile',\n",
       " 'copyreg',\n",
       " 'enum',\n",
       " 'error',\n",
       " 'escape',\n",
       " 'findall',\n",
       " 'finditer',\n",
       " 'fullmatch',\n",
       " 'functools',\n",
       " 'match',\n",
       " 'purge',\n",
       " 'search',\n",
       " 'split',\n",
       " 'sre_compile',\n",
       " 'sre_parse',\n",
       " 'sub',\n",
       " 'subn',\n",
       " 'template']"
      ]
     },
     "execution_count": 10,
     "metadata": {},
     "output_type": "execute_result"
    }
   ],
   "source": [
    "dir(re)"
   ]
  },
  {
   "cell_type": "code",
   "execution_count": 12,
   "metadata": {},
   "outputs": [
    {
     "data": {
      "text/plain": [
       "True"
      ]
     },
     "execution_count": 12,
     "metadata": {},
     "output_type": "execute_result"
    }
   ],
   "source": [
    "s='abcd'\n",
    "'a' in s"
   ]
  },
  {
   "cell_type": "code",
   "execution_count": 23,
   "metadata": {},
   "outputs": [
    {
     "data": {
      "text/plain": [
       "<_sre.SRE_Match object; span=(5, 7), match='aa'>"
      ]
     },
     "execution_count": 23,
     "metadata": {},
     "output_type": "execute_result"
    }
   ],
   "source": [
    "s='abcdbaabaa'\n",
    "re.search('aa',s)"
   ]
  },
  {
   "cell_type": "code",
   "execution_count": 26,
   "metadata": {},
   "outputs": [
    {
     "data": {
      "text/plain": [
       "True"
      ]
     },
     "execution_count": 26,
     "metadata": {},
     "output_type": "execute_result"
    }
   ],
   "source": [
    "'a' in s"
   ]
  },
  {
   "cell_type": "code",
   "execution_count": 27,
   "metadata": {},
   "outputs": [],
   "source": [
    "re.match('aa',s)"
   ]
  },
  {
   "cell_type": "code",
   "execution_count": 28,
   "metadata": {},
   "outputs": [
    {
     "data": {
      "text/plain": [
       "['aa', 'aa']"
      ]
     },
     "execution_count": 28,
     "metadata": {},
     "output_type": "execute_result"
    }
   ],
   "source": [
    "re.findall('aa',s)"
   ]
  },
  {
   "cell_type": "code",
   "execution_count": 49,
   "metadata": {},
   "outputs": [
    {
     "name": "stdout",
     "output_type": "stream",
     "text": [
      "abc\n",
      "bca\n",
      "acd\n",
      "abcd\n"
     ]
    }
   ],
   "source": [
    "# dot\n",
    "s=['abc','bca','acd','abcd','']\n",
    "for i in s:\n",
    "    if len(i)==3 or len(i)==4:\n",
    "    # if re.search('.',i):\n",
    "        print(i)"
   ]
  },
  {
   "cell_type": "code",
   "execution_count": 55,
   "metadata": {},
   "outputs": [
    {
     "name": "stdout",
     "output_type": "stream",
     "text": [
      "abcd\n"
     ]
    }
   ],
   "source": [
    "for i in s:\n",
    "    if re.search('....',i):\n",
    "        print(i)"
   ]
  },
  {
   "cell_type": "code",
   "execution_count": 57,
   "metadata": {},
   "outputs": [
    {
     "name": "stdout",
     "output_type": "stream",
     "text": [
      "abc\n",
      "acda\n",
      "cdc\n",
      "cdea\n",
      "\n"
     ]
    }
   ],
   "source": [
    "#star\n",
    "l=['abc','acda','cdc','cdea','']\n",
    "for i in l:\n",
    "    if re.search('.*',i):\n",
    "        print(i)\n",
    "    "
   ]
  },
  {
   "cell_type": "code",
   "execution_count": 60,
   "metadata": {},
   "outputs": [
    {
     "name": "stdout",
     "output_type": "stream",
     "text": [
      "acda\n"
     ]
    }
   ],
   "source": [
    "for i in l:\n",
    "    if re.search('a.+a',i):\n",
    "        print(i)"
   ]
  },
  {
   "cell_type": "code",
   "execution_count": 62,
   "metadata": {},
   "outputs": [
    {
     "name": "stdout",
     "output_type": "stream",
     "text": [
      "['abc', '123', 'hello', '456']\n"
     ]
    }
   ],
   "source": [
    "s='abc 123 hello 456'\n",
    "l=s.split()\n",
    "print(l)"
   ]
  },
  {
   "cell_type": "code",
   "execution_count": 64,
   "metadata": {},
   "outputs": [
    {
     "data": {
      "text/plain": [
       "579"
      ]
     },
     "execution_count": 64,
     "metadata": {},
     "output_type": "execute_result"
    }
   ],
   "source": [
    "s='abc 123 hello 456'\n",
    "pattern = '\\d+'\n",
    "li=re.findall(pattern,s)\n",
    "sum(list(map(int,li)))\n"
   ]
  },
  {
   "cell_type": "code",
   "execution_count": 10,
   "metadata": {},
   "outputs": [
    {
     "name": "stdout",
     "output_type": "stream",
     "text": [
      "sweety\n",
      "Rowdy\n"
     ]
    }
   ],
   "source": [
    "names = ['sweety','chinni','Mr.Cool','Miss.cutiee','Rowdy']\n",
    "pattern = '^M.+{3}$'\n",
    "pattern1 = '^.+[y]$'\n",
    "for name in names:\n",
    "    if re.match(pattern1,name):\n",
    "        print(name)\n",
    "    \n",
    "    \n"
   ]
  },
  {
   "cell_type": "code",
   "execution_count": 17,
   "metadata": {},
   "outputs": [
    {
     "name": "stdout",
     "output_type": "stream",
     "text": [
      "+919951409999\n",
      "+919652598917\n"
     ]
    }
   ],
   "source": [
    "# how to valid a phone number.\n",
    "# 1-10 digits\n",
    "# startswith 6-9\n",
    "numbers = ['+919951409999','8919334092','+919652598917','8522887768','6309432145','8333043008']\n",
    "pattern = '^(\\+91)[6-9]\\d{9}$'\n",
    "for number in numbers:\n",
    "    if re.match(pattern,number):\n",
    "        print(number)\n"
   ]
  },
  {
   "cell_type": "code",
   "execution_count": null,
   "metadata": {},
   "outputs": [],
   "source": [
    "# how to valid a mail\n",
    "# first starts with any alphabets\n",
    "# any digit\n",
    "# last=@gmail.com\n",
    "emails = ['sri@gmail.com','1234.in','nehashivnandhu@gmail.com']\n",
    "pattern = '^[A-Za-z]{1,15}\\d[0-9]{0,10}[@](gmail.com)$'\n",
    "if re.match(pattern,emails):\n",
    "    print(emails)"
   ]
  },
  {
   "cell_type": "code",
   "execution_count": 23,
   "metadata": {},
   "outputs": [
    {
     "name": "stdout",
     "output_type": "stream",
     "text": [
      "enter mail id: 123@gmail.com\n"
     ]
    }
   ],
   "source": [
    "email = input('enter mail id: ')\n",
    "pattern = '^[A-Za-z]{1,15}\\d[0-9]{0,10}[@](gmail.com)$'\n",
    "if re.match(pattern,email):\n",
    "    print(email)\n",
    "    "
   ]
  },
  {
   "cell_type": "markdown",
   "metadata": {},
   "source": [
    "### Oops:\n",
    "1. **class:**\n",
    "+ blue print or model of a object\n",
    "2. **object:**\n",
    "+ physical entity which is having behaviour.\n",
    "3. **constructor:**\n",
    "+ special method which is used to create instance variable.\n",
    "+ it is executed at the time of object creation.\n",
    "+ **creating class:**\n",
    "  + **syntax:**\n",
    "  + class ClassName:\n",
    "+ variables\n",
    "+ methods\n",
    "+ **creating object:**\n",
    "  + **syntax:**\n",
    "  + rv = ClasName() {here rv is reference variable}\n"
   ]
  },
  {
   "cell_type": "code",
   "execution_count": 4,
   "metadata": {},
   "outputs": [
    {
     "name": "stdout",
     "output_type": "stream",
     "text": [
      "10\n"
     ]
    }
   ],
   "source": [
    "class Student:\n",
    "    x=10\n",
    "print(Student.x)"
   ]
  },
  {
   "cell_type": "code",
   "execution_count": 5,
   "metadata": {},
   "outputs": [
    {
     "data": {
      "text/plain": [
       "<__main__.Student at 0x39a27b0>"
      ]
     },
     "execution_count": 5,
     "metadata": {},
     "output_type": "execute_result"
    }
   ],
   "source": [
    "s=Student()\n",
    "s"
   ]
  },
  {
   "cell_type": "code",
   "execution_count": 6,
   "metadata": {},
   "outputs": [
    {
     "data": {
      "text/plain": [
       "10"
      ]
     },
     "execution_count": 6,
     "metadata": {},
     "output_type": "execute_result"
    }
   ],
   "source": [
    "s.x"
   ]
  },
  {
   "cell_type": "code",
   "execution_count": 10,
   "metadata": {},
   "outputs": [
    {
     "name": "stdout",
     "output_type": "stream",
     "text": [
      "10\n",
      "hello bannusri\n"
     ]
    }
   ],
   "source": [
    "class Student:\n",
    "    x=10\n",
    "    def display(self,name):\n",
    "        print('hello {}'.format(name))\n",
    "s = Student()\n",
    "print(s.x)\n",
    "s.display('bannusri')"
   ]
  },
  {
   "cell_type": "code",
   "execution_count": 43,
   "metadata": {},
   "outputs": [],
   "source": [
    "class Student:\n",
    "    x = 10 #instance or static variable\n",
    "    def __init__(self,name):\n",
    "        self.name = name\n",
    "        self.y = 20 #instance var\n",
    "        print(\"This is constructor....\")\n",
    "    def m1(self):\n",
    "        z = 30 #local var\n",
    "        print('This is method....')\n",
    "        print('my name is {}'.format(self.name))\n",
    "        print(z)\n",
    "        \n",
    "        \n",
    "    "
   ]
  },
  {
   "cell_type": "code",
   "execution_count": 44,
   "metadata": {},
   "outputs": [
    {
     "name": "stdout",
     "output_type": "stream",
     "text": [
      "This is constructor....\n"
     ]
    }
   ],
   "source": [
    "s=Student('bannusri')\n"
   ]
  },
  {
   "cell_type": "code",
   "execution_count": 47,
   "metadata": {},
   "outputs": [
    {
     "name": "stdout",
     "output_type": "stream",
     "text": [
      "This is constructor....\n"
     ]
    }
   ],
   "source": [
    "s=Student('bannusri')"
   ]
  },
  {
   "cell_type": "code",
   "execution_count": 48,
   "metadata": {},
   "outputs": [
    {
     "data": {
      "text/plain": [
       "10"
      ]
     },
     "execution_count": 48,
     "metadata": {},
     "output_type": "execute_result"
    }
   ],
   "source": [
    "s.x #accessing x  "
   ]
  },
  {
   "cell_type": "code",
   "execution_count": 50,
   "metadata": {},
   "outputs": [
    {
     "data": {
      "text/plain": [
       "20"
      ]
     },
     "execution_count": 50,
     "metadata": {},
     "output_type": "execute_result"
    }
   ],
   "source": [
    "s1.y"
   ]
  },
  {
   "cell_type": "code",
   "execution_count": 51,
   "metadata": {},
   "outputs": [
    {
     "name": "stdout",
     "output_type": "stream",
     "text": [
      "This is method....\n"
     ]
    }
   ],
   "source": [
    "s1.m1()"
   ]
  },
  {
   "cell_type": "code",
   "execution_count": null,
   "metadata": {},
   "outputs": [],
   "source": []
  },
  {
   "cell_type": "code",
   "execution_count": null,
   "metadata": {},
   "outputs": [],
   "source": []
  }
 ],
 "metadata": {
  "kernelspec": {
   "display_name": "Python 3",
   "language": "python",
   "name": "python3"
  },
  "language_info": {
   "codemirror_mode": {
    "name": "ipython",
    "version": 3
   },
   "file_extension": ".py",
   "mimetype": "text/x-python",
   "name": "python",
   "nbconvert_exporter": "python",
   "pygments_lexer": "ipython3",
   "version": "3.6.5"
  }
 },
 "nbformat": 4,
 "nbformat_minor": 4
}
