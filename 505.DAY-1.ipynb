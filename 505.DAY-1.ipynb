{
 "cells": [
  {
   "cell_type": "code",
   "execution_count": 2,
   "metadata": {},
   "outputs": [
    {
     "name": "stdout",
     "output_type": "stream",
     "text": [
      "False\n",
      "False\n",
      "False\n",
      "True\n"
     ]
    }
   ],
   "source": [
    "#logical operators\n",
    "#and\n",
    "print(False and False)\n",
    "print(False and True)\n",
    "print(True and False)\n",
    "print(True and True) # 0-0,0-1,1-0,1-1\n"
   ]
  },
  {
   "cell_type": "code",
   "execution_count": 3,
   "metadata": {},
   "outputs": [
    {
     "name": "stdout",
     "output_type": "stream",
     "text": [
      "False\n",
      "True\n",
      "True\n",
      "True\n"
     ]
    }
   ],
   "source": [
    "#or\n",
    "print(False or False)\n",
    "print(False or True)\n",
    "print(True or False)\n",
    "print(True or True)\n"
   ]
  },
  {
   "cell_type": "code",
   "execution_count": 4,
   "metadata": {},
   "outputs": [
    {
     "name": "stdout",
     "output_type": "stream",
     "text": [
      "True\n",
      "False\n",
      "False\n",
      "False\n"
     ]
    }
   ],
   "source": [
    "#not with or\n",
    "print(not(False or False))\n",
    "print(not(False or True))\n",
    "print(not(True or False))\n",
    "print(not(True or True))"
   ]
  },
  {
   "cell_type": "code",
   "execution_count": 5,
   "metadata": {},
   "outputs": [
    {
     "name": "stdout",
     "output_type": "stream",
     "text": [
      "True\n",
      "False\n",
      "False\n",
      "True\n"
     ]
    }
   ],
   "source": [
    "#membership operator\n",
    "#in\n",
    "s=\"bannusri\"\n",
    "print('b' in s)\n",
    "print('c' in s)\n",
    "#not in\n",
    "s=\"jumma pal\"\n",
    "print('pal' not in s)\n",
    "print('sri' not in s)\n"
   ]
  },
  {
   "cell_type": "code",
   "execution_count": 6,
   "metadata": {},
   "outputs": [
    {
     "name": "stdout",
     "output_type": "stream",
     "text": [
      "False\n",
      "True\n",
      "True\n",
      "True\n"
     ]
    }
   ],
   "source": [
    "#identity operator\n",
    "x='helloo'\n",
    "y='hi'\n",
    "print(x is y)\n",
    "x='hi'\n",
    "print(x is y)\n",
    "x='h r u'\n",
    "print(x is not y)\n",
    "y='hi'\n",
    "print(x is not y)\n"
   ]
  },
  {
   "cell_type": "code",
   "execution_count": 7,
   "metadata": {},
   "outputs": [
    {
     "data": {
      "text/plain": [
       "'A'"
      ]
     },
     "execution_count": 7,
     "metadata": {},
     "output_type": "execute_result"
    }
   ],
   "source": [
    "#bitwise operator\n",
    "\n",
    "#&\n",
    "2&2\n",
    "#bin(2)#binary value of two\n",
    "2&5\n",
    "#bin(5)\n",
    "\n",
    "#|\n",
    "5|10\n",
    "int('1111',2)#if greater than 9\n",
    "#int('001')#if less then 9\n",
    "ord('A')\n",
    "chr(65)\n"
   ]
  },
  {
   "cell_type": "code",
   "execution_count": 8,
   "metadata": {},
   "outputs": [
    {
     "name": "stdout",
     "output_type": "stream",
     "text": [
      "Enter a value: 1\n",
      "sun\n"
     ]
    },
    {
     "data": {
      "text/plain": [
       "'A'"
      ]
     },
     "execution_count": 8,
     "metadata": {},
     "output_type": "execute_result"
    }
   ],
   "source": [
    "#bitwise operator\n",
    "n=int(input(\"Enter a value: \"))\n",
    "if(n==1):\n",
    "      print(\"sun\")\n",
    "elif(n==2):\n",
    "      print(\"mon\")\n",
    "elif(n==3):\n",
    "      print(\"tues\")\n",
    "elif(n==4):\n",
    "      print(\"wed\")\n",
    "elif(n==5):\n",
    "      print(\"thurs\")\n",
    "elif(n==6):\n",
    "      print(\"fri\")\n",
    "elif(n==7):\n",
    "      print(\"sat\")\n",
    "else:\n",
    "    print(\"no day\")\n",
    "#&\n",
    "2&2\n",
    "#bin(2)#binary value of two\n",
    "2&5\n",
    "#bin(5)\n",
    "\n",
    "#|\n",
    "5|10\n",
    "int('1111',2)#if greater than 9\n",
    "#int('001')#if less then 9\n",
    "ord('A')\n",
    "chr(65)\n"
   ]
  },
  {
   "cell_type": "code",
   "execution_count": null,
   "metadata": {},
   "outputs": [
    {
     "name": "stdout",
     "output_type": "stream",
     "text": [
      "\n",
      "Welcome to Python 3.6's help utility!\n",
      "\n",
      "If this is your first time using Python, you should definitely check out\n",
      "the tutorial on the Internet at https://docs.python.org/3.6/tutorial/.\n",
      "\n",
      "Enter the name of any module, keyword, or topic to get help on writing\n",
      "Python programs and using Python modules.  To quit this help utility and\n",
      "return to the interpreter, just type \"quit\".\n",
      "\n",
      "To get a list of available modules, keywords, symbols, or topics, type\n",
      "\"modules\", \"keywords\", \"symbols\", or \"topics\".  Each module also comes\n",
      "with a one-line summary of what it does; to list the modules whose name\n",
      "or summary contain a given string such as \"spam\", type \"modules spam\".\n",
      "\n"
     ]
    }
   ],
   "source": [
    "help()"
   ]
  },
  {
   "cell_type": "code",
   "execution_count": null,
   "metadata": {},
   "outputs": [],
   "source": [
    "name=str(input(\"Enter name of student: \"))\n",
    "print(name)"
   ]
  },
  {
   "cell_type": "code",
   "execution_count": null,
   "metadata": {},
   "outputs": [],
   "source": [
    "name=str(input(\"Enter name of student: \"))\n",
    "print(name)"
   ]
  },
  {
   "cell_type": "code",
   "execution_count": null,
   "metadata": {},
   "outputs": [],
   "source": [
    "# for loop \n",
    "#without inclusive\n",
    "for i in range(100+1):\n",
    "    print(i,end=',')\n",
    "# with inclusive\n",
    "for j in range(1,51):\n",
    "    print(j,end='-->')\n",
    "#reversing numbers\n",
    "for k in range(30,2,-1):\n",
    "    print(k,end='<--')"
   ]
  },
  {
   "cell_type": "code",
   "execution_count": null,
   "metadata": {},
   "outputs": [],
   "source": [
    "#even numbers using for loop\n",
    "for i in range(0,101,2):\n",
    "    print(i,end='-')"
   ]
  },
  {
   "cell_type": "code",
   "execution_count": null,
   "metadata": {},
   "outputs": [],
   "source": [
    "#even numbers using for loop\n",
    "for i in range(0,101,2):\n",
    "    print(i,end='-')"
   ]
  },
  {
   "cell_type": "code",
   "execution_count": null,
   "metadata": {},
   "outputs": [],
   "source": [
    "#sum of natural numbers in between range..... in reverse\n",
    "a=int(input(\"Enter initial value: \"))\n",
    "b=int(input(\"Enter final value: \"))\n",
    "s=0\n",
    "for i in range(a,b,-1):\n",
    "    print(i)\n",
    "    s+=i\n",
    "print(s)    "
   ]
  },
  {
   "cell_type": "code",
   "execution_count": null,
   "metadata": {},
   "outputs": [],
   "source": [
    "#factorial\n",
    "n=int(input(\"Enter factorial value: \"))\n",
    "m=1\n",
    "for i in range(1,n+1):\n",
    "    m*=i\n",
    "print(m)"
   ]
  },
  {
   "cell_type": "code",
   "execution_count": 1,
   "metadata": {},
   "outputs": [
    {
     "name": "stdout",
     "output_type": "stream",
     "text": [
      "Enter table number+ 5\n",
      "Enter table upto: 4\n",
      "5 * 1 = 5\n",
      "5 * 2 = 10\n",
      "5 * 3 = 15\n",
      "5 * 4 = 20\n"
     ]
    }
   ],
   "source": [
    "# print table\n",
    "x=int(input(\"Enter table number+ \"))\n",
    "y=int(input(\"Enter table upto: \"))\n",
    "for i in range(1,y+1):\n",
    "    print('{} * {} = {}'.format(x,i,x*i))\n",
    "    "
   ]
  },
  {
   "cell_type": "code",
   "execution_count": null,
   "metadata": {},
   "outputs": [],
   "source": []
  },
  {
   "cell_type": "code",
   "execution_count": null,
   "metadata": {},
   "outputs": [],
   "source": [
    "# print even numbers\n",
    "i=0\n",
    "while i<10:\n",
    "    print(i)\n",
    "    i+=2"
   ]
  },
  {
   "cell_type": "code",
   "execution_count": null,
   "metadata": {},
   "outputs": [],
   "source": [
    "'''import webbrowser\n",
    "#dir (webbrowser)\n",
    "webbrowser.open('www.google.com')'''\n",
    "import time\n",
    "#dir(time)\n",
    "time.ctime()"
   ]
  },
  {
   "cell_type": "code",
   "execution_count": null,
   "metadata": {},
   "outputs": [],
   "source": [
    "'''import webbrowser\n",
    "#dir (webbrowser)\n",
    "webbrowser.open('www.google.com')'''\n",
    "import time\n",
    "#dir(time)\n",
    "time.ctime()"
   ]
  },
  {
   "cell_type": "code",
   "execution_count": null,
   "metadata": {},
   "outputs": [],
   "source": [
    "# jump statements: break,continue,pass\n",
    "i=10\n",
    "while i<20:\n",
    "    print(i)\n",
    "    if i == 15:\n",
    "        break\n",
    "    else:\n",
    "        i+=1"
   ]
  },
  {
   "cell_type": "code",
   "execution_count": null,
   "metadata": {},
   "outputs": [],
   "source": [
    "# break\n",
    "s='Hello'\n",
    "for i in s:\n",
    "    if i=='l':\n",
    "        break\n",
    "    print(i)"
   ]
  },
  {
   "cell_type": "code",
   "execution_count": null,
   "metadata": {},
   "outputs": [],
   "source": []
  },
  {
   "cell_type": "code",
   "execution_count": null,
   "metadata": {},
   "outputs": [],
   "source": []
  },
  {
   "cell_type": "code",
   "execution_count": null,
   "metadata": {},
   "outputs": [],
   "source": []
  },
  {
   "cell_type": "code",
   "execution_count": null,
   "metadata": {},
   "outputs": [],
   "source": []
  }
 ],
 "metadata": {
  "kernelspec": {
   "display_name": "Python 3",
   "language": "python",
   "name": "python3"
  },
  "language_info": {
   "codemirror_mode": {
    "name": "ipython",
    "version": 3
   },
   "file_extension": ".py",
   "mimetype": "text/x-python",
   "name": "python",
   "nbconvert_exporter": "python",
   "pygments_lexer": "ipython3",
   "version": "3.6.5"
  }
 },
 "nbformat": 4,
 "nbformat_minor": 4
}
