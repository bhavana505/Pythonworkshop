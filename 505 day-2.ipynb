{
 "cells": [
  {
   "cell_type": "markdown",
   "metadata": {},
   "source": [
    "# function\n",
    "+ block of code to perform particural task\n",
    "### advantages:\n",
    "  + code reuse\n",
    "  + size decrease\n",
    " #### Types of functions:\n",
    " ##### 1.predefine\n",
    " ##### 2. user defined\n",
    " ##### 3. special\n",
    " ## User defined Functions:\n",
    "      + based on return type\n",
    "        1.Without arg and without return value\n",
    "        2. Without arg and with return value\n",
    "        3. with arg and without return value\n",
    "        4. with arg and with return value\n",
    "        \n",
    "**based on arg:**\n",
    "    + 1.default arg\n",
    "    + 2.required arg\n",
    "    + 3.Variable length arg\n",
    "    + 4.keyword arg\n",
    "***how to create user defined function***\n",
    "+1. function creation\n",
    "    + --> fun declare\n",
    "      def FunctionName(arg):\n",
    "    + --> fun defination:\n",
    "       statements\n",
    "+2. Function calling\n",
    "     + by using FunctionName\n",
    "### default arguments:\n",
    "+   these are the arguments which passes the value at the time of declaration.\n",
    "#### required or positional arg:\n",
    "+   value at position\n",
    "##### variable_length arg:\n",
    "+ * represents the variable length\n",
    "###### keyword arg:\n",
    "+ "
   ]
  },
  {
   "cell_type": "code",
   "execution_count": null,
   "metadata": {},
   "outputs": [],
   "source": [
    "def sample():\n",
    "    print('sample function')\n",
    "sample()"
   ]
  },
  {
   "cell_type": "code",
   "execution_count": 9,
   "metadata": {},
   "outputs": [
    {
     "name": "stdout",
     "output_type": "stream",
     "text": [
      "23\n",
      "24\n",
      "addition of 23 and 24 is 47\n"
     ]
    }
   ],
   "source": [
    "# without arg and without return value\n",
    "def fun():\n",
    "    s1 = int(input())\n",
    "    s2 = int(input())\n",
    "    print('addition of {} and {} is {}'.format(s1,s2,s1+s2))\n",
    "fun()"
   ]
  },
  {
   "cell_type": "code",
   "execution_count": 10,
   "metadata": {},
   "outputs": [
    {
     "name": "stdout",
     "output_type": "stream",
     "text": [
      "2\n",
      "2\n",
      "addition of 2 and 2 is 4\n",
      "None\n"
     ]
    }
   ],
   "source": [
    "s=fun()\n",
    "print(s)"
   ]
  },
  {
   "cell_type": "code",
   "execution_count": 8,
   "metadata": {},
   "outputs": [
    {
     "name": "stdout",
     "output_type": "stream",
     "text": [
      "1\n",
      "1\n",
      "addition of 1 and 1 is 2\n"
     ]
    }
   ],
   "source": [
    "#Without arg and with return value\n",
    "def fun1():\n",
    "    s1 = int(input())\n",
    "    s2 = int(input())\n",
    "    print('addition of {} and {} is {}'.format(s1,s2,s1+s2))\n",
    "    return s1+s2\n",
    "s=fun1()"
   ]
  },
  {
   "cell_type": "code",
   "execution_count": 11,
   "metadata": {},
   "outputs": [
    {
     "name": "stdout",
     "output_type": "stream",
     "text": [
      "2\n",
      "2\n",
      "addition of 2 and 2 is 4\n",
      "4\n"
     ]
    }
   ],
   "source": [
    "s=fun1()\n",
    "print(s)"
   ]
  },
  {
   "cell_type": "code",
   "execution_count": 12,
   "metadata": {},
   "outputs": [
    {
     "name": "stdout",
     "output_type": "stream",
     "text": [
      "mul of 45 and 23 is 1035\n"
     ]
    }
   ],
   "source": [
    "# with arg and without return value\n",
    "def fun2(a,b):\n",
    "    print('mul of {} and {} is {}'.format(a,b,a*b))\n",
    "fun2(45,23)\n"
   ]
  },
  {
   "cell_type": "code",
   "execution_count": 14,
   "metadata": {},
   "outputs": [
    {
     "name": "stdout",
     "output_type": "stream",
     "text": [
      "mul of 25 and 24 is 600\n",
      "div is 1.0416666666666667\n"
     ]
    }
   ],
   "source": [
    "# with arg and with return value\n",
    "def fun3(a,b):\n",
    "     print('mul of {} and {} is {}'.format(a,b,a*b))\n",
    "     return a/b\n",
    "s= fun3(25,24)\n",
    "print('div is {}'.format(s))\n"
   ]
  },
  {
   "cell_type": "code",
   "execution_count": 7,
   "metadata": {},
   "outputs": [
    {
     "data": {
      "text/plain": [
       "100000000000000000000"
      ]
     },
     "execution_count": 7,
     "metadata": {},
     "output_type": "execute_result"
    }
   ],
   "source": [
    "# default arguments\n",
    "def default(a=10,b=20):\n",
    "    return a**b\n",
    "default()\n"
   ]
  },
  {
   "cell_type": "code",
   "execution_count": 8,
   "metadata": {},
   "outputs": [
    {
     "data": {
      "text/plain": [
       "1048576"
      ]
     },
     "execution_count": 8,
     "metadata": {},
     "output_type": "execute_result"
    }
   ],
   "source": [
    "default(2)"
   ]
  },
  {
   "cell_type": "code",
   "execution_count": 9,
   "metadata": {},
   "outputs": [
    {
     "data": {
      "text/plain": [
       "32"
      ]
     },
     "execution_count": 9,
     "metadata": {},
     "output_type": "execute_result"
    }
   ],
   "source": [
    "default(2,5)"
   ]
  },
  {
   "cell_type": "code",
   "execution_count": 10,
   "metadata": {},
   "outputs": [
    {
     "data": {
      "text/plain": [
       "100000"
      ]
     },
     "execution_count": 10,
     "metadata": {},
     "output_type": "execute_result"
    }
   ],
   "source": [
    "default(b=5)"
   ]
  },
  {
   "cell_type": "code",
   "execution_count": 19,
   "metadata": {},
   "outputs": [
    {
     "name": "stdout",
     "output_type": "stream",
     "text": [
      "5 6 7\n"
     ]
    }
   ],
   "source": [
    "#required or positional arg\n",
    "def required(a,b,c=10):\n",
    "    print(a,b,c)\n",
    "required(5,6,7)\n",
    "    "
   ]
  },
  {
   "cell_type": "code",
   "execution_count": 15,
   "metadata": {},
   "outputs": [
    {
     "name": "stdout",
     "output_type": "stream",
     "text": [
      "5 6 10\n"
     ]
    }
   ],
   "source": [
    "def required(a,b,c=10):\n",
    "    print(a,b,c)\n",
    "required(5,6)"
   ]
  },
  {
   "cell_type": "code",
   "execution_count": 13,
   "metadata": {},
   "outputs": [
    {
     "name": "stdout",
     "output_type": "stream",
     "text": [
      "2 3 4\n"
     ]
    }
   ],
   "source": [
    "def required(a,b,c):\n",
    "    print(a,b,c)\n",
    "required(2,3,4)"
   ]
  },
  {
   "cell_type": "code",
   "execution_count": 23,
   "metadata": {},
   "outputs": [
    {
     "name": "stdout",
     "output_type": "stream",
     "text": [
      "()\n"
     ]
    }
   ],
   "source": [
    "# variable lenth arg\n",
    "def var_len(*a):\n",
    "    print(a)\n",
    "var_len()"
   ]
  },
  {
   "cell_type": "code",
   "execution_count": 24,
   "metadata": {},
   "outputs": [
    {
     "name": "stdout",
     "output_type": "stream",
     "text": [
      "(1, 2, 3)\n"
     ]
    }
   ],
   "source": [
    "# var_len\n",
    "def var_len(*a):\n",
    "    print(a)\n",
    "var_len(1,2,3)"
   ]
  },
  {
   "cell_type": "code",
   "execution_count": 27,
   "metadata": {},
   "outputs": [
    {
     "data": {
      "text/plain": [
       "10"
      ]
     },
     "execution_count": 27,
     "metadata": {},
     "output_type": "execute_result"
    }
   ],
   "source": [
    "#var_len\n",
    "def var_len(*a):\n",
    "    s=0\n",
    "    for i in a:\n",
    "        s+=i\n",
    "    return s\n",
    "var_len(1,2,3,4)\n"
   ]
  },
  {
   "cell_type": "code",
   "execution_count": 29,
   "metadata": {},
   "outputs": [
    {
     "data": {
      "text/plain": [
       "18"
      ]
     },
     "execution_count": 29,
     "metadata": {},
     "output_type": "execute_result"
    }
   ],
   "source": [
    "var_len(3,4,5,6)"
   ]
  },
  {
   "cell_type": "code",
   "execution_count": 39,
   "metadata": {},
   "outputs": [
    {
     "name": "stdout",
     "output_type": "stream",
     "text": [
      "hello bannusri welcome to pace college\n"
     ]
    }
   ],
   "source": [
    "# keyword arg\n",
    "def keyword(name,college):\n",
    "    print('hello {} welcome to {} college'.format(name,college))\n",
    "keyword(college='pace',name='bannusri')"
   ]
  },
  {
   "cell_type": "code",
   "execution_count": 41,
   "metadata": {},
   "outputs": [
    {
     "name": "stdout",
     "output_type": "stream",
     "text": [
      "{'name': ['jumma', 'pal', 'bannusri']}\n"
     ]
    }
   ],
   "source": [
    "def key2(**name):\n",
    "    print(name)\n",
    "key2(name = ['jumma','pal','bannusri'])"
   ]
  },
  {
   "cell_type": "code",
   "execution_count": 52,
   "metadata": {},
   "outputs": [],
   "source": [
    "def table(x,y):\n",
    "    for i in range(1,y+1):\n",
    "        print('{} * {} = {}'.format(x,i,x*i))\n",
    "              "
   ]
  },
  {
   "cell_type": "code",
   "execution_count": 50,
   "metadata": {},
   "outputs": [
    {
     "name": "stdout",
     "output_type": "stream",
     "text": [
      "Enter tables upto: 3\n",
      "Enter table length: 10\n",
      "1 * 1 = 1\n",
      "1 * 2 = 2\n",
      "1 * 3 = 3\n",
      "1 * 4 = 4\n",
      "1 * 5 = 5\n",
      "1 * 6 = 6\n",
      "1 * 7 = 7\n",
      "1 * 8 = 8\n",
      "1 * 9 = 9\n",
      "1 * 10 = 10\n",
      "2 * 1 = 2\n",
      "2 * 2 = 4\n",
      "2 * 3 = 6\n",
      "2 * 4 = 8\n",
      "2 * 5 = 10\n",
      "2 * 6 = 12\n",
      "2 * 7 = 14\n",
      "2 * 8 = 16\n",
      "2 * 9 = 18\n",
      "2 * 10 = 20\n"
     ]
    }
   ],
   "source": [
    "x=int(input(\"Enter tables upto: \"))\n",
    "y=int(input(\"Enter table length: \"))\n",
    "for i in range(1,x):\n",
    "    table(i,y)"
   ]
  },
  {
   "cell_type": "code",
   "execution_count": 66,
   "metadata": {},
   "outputs": [],
   "source": [
    "def even(x,y):\n",
    "    for i in range(x,y+1):\n",
    "        if i%2==0:\n",
    "            print(i,end = '-')\n"
   ]
  },
  {
   "cell_type": "code",
   "execution_count": 67,
   "metadata": {},
   "outputs": [
    {
     "name": "stdout",
     "output_type": "stream",
     "text": [
      "2-4-6-8-10-12-14-16-18-20-22-24-26-28-30-32-34-36-38-40-42-44-46-48-50-52-54-56-58-60-62-64-66-68-70-72-74-76-78-80-82-84-86-88-90-92-94-96-98-100-"
     ]
    }
   ],
   "source": [
    "even(1,100)"
   ]
  },
  {
   "cell_type": "code",
   "execution_count": 71,
   "metadata": {},
   "outputs": [],
   "source": [
    "def odd_fun(a,b):\n",
    "    for i in range(a,b+1):\n",
    "        if i%2!=0:\n",
    "            print(i,end = '-')\n",
    "            \n",
    "        "
   ]
  },
  {
   "cell_type": "code",
   "execution_count": 72,
   "metadata": {},
   "outputs": [
    {
     "name": "stdout",
     "output_type": "stream",
     "text": [
      "101-103-105-107-109-111-113-115-117-119-121-123-125-127-129-131-133-135-137-139-141-143-145-147-149-151-153-155-157-159-161-163-165-167-169-171-173-175-177-179-181-183-185-187-189-191-193-195-197-199-201-203-205-207-209-211-213-215-217-219-221-223-225-227-229-231-233-235-237-239-241-243-245-247-249-"
     ]
    }
   ],
   "source": [
    "odd_fun(100,250)"
   ]
  },
  {
   "cell_type": "code",
   "execution_count": 82,
   "metadata": {},
   "outputs": [
    {
     "name": "stdout",
     "output_type": "stream",
     "text": [
      "enter factor number: 56\n",
      "1 2 4 7 8 14 28 "
     ]
    }
   ],
   "source": [
    "# to find factors og number\n",
    "def factors(x):\n",
    "    for i in range(1,x//2+1):\n",
    "        if x%i==0:\n",
    "            print(i,end=' ')\n",
    "x=int(input('enter factor number: '))\n",
    "factors(x)\n",
    "\n"
   ]
  },
  {
   "cell_type": "code",
   "execution_count": 100,
   "metadata": {},
   "outputs": [
    {
     "data": {
      "text/plain": [
       "6"
      ]
     },
     "execution_count": 100,
     "metadata": {},
     "output_type": "execute_result"
    }
   ],
   "source": [
    "def sum_factors(n):\n",
    "    s = 0\n",
    "    for i in range(1,n):\n",
    "        if n%i == 0:\n",
    "            s+=i\n",
    "    return s\n",
    "sum_factors(6)"
   ]
  },
  {
   "cell_type": "code",
   "execution_count": 92,
   "metadata": {},
   "outputs": [
    {
     "name": "stdout",
     "output_type": "stream",
     "text": [
      "25 is not a perfect number\n"
     ]
    }
   ],
   "source": [
    "def Perfect(n):\n",
    "    if n==sum_factors(n):\n",
    "        print(n,'is a perfect number')\n",
    "    else:\n",
    "        print(n,'is not a perfect number')\n",
    "Perfect(25)"
   ]
  },
  {
   "cell_type": "code",
   "execution_count": 98,
   "metadata": {},
   "outputs": [
    {
     "data": {
      "text/plain": [
       "3628800"
      ]
     },
     "execution_count": 98,
     "metadata": {},
     "output_type": "execute_result"
    }
   ],
   "source": [
    "#recursive fun\n",
    "def fact(n):\n",
    "    if n==1 or n==0:\n",
    "        return 1\n",
    "    else:\n",
    "        return n*fact(n-1)\n",
    "fact(10)"
   ]
  },
  {
   "cell_type": "code",
   "execution_count": 104,
   "metadata": {},
   "outputs": [
    {
     "data": {
      "text/plain": [
       "1"
      ]
     },
     "execution_count": 104,
     "metadata": {},
     "output_type": "execute_result"
    }
   ],
   "source": [
    "def count_factors(n):\n",
    "    cnt = 0\n",
    "    for i in range(1,n+1):\n",
    "        if n%i == 0:\n",
    "            cnt+=1\n",
    "    return cnt\n",
    "count_factors(5)\n"
   ]
  },
  {
   "cell_type": "code",
   "execution_count": 108,
   "metadata": {},
   "outputs": [
    {
     "name": "stdout",
     "output_type": "stream",
     "text": [
      "19 is not a prime number\n"
     ]
    }
   ],
   "source": [
    "# is prime\n",
    "def Is_prime(n):\n",
    "    if count_factors(n) ==2:\n",
    "        print(n,'is a prime number')\n",
    "    else:\n",
    "        print(n,'is not a prime number')\n",
    "Is_prime(19)"
   ]
  },
  {
   "cell_type": "code",
   "execution_count": 121,
   "metadata": {},
   "outputs": [
    {
     "name": "stdout",
     "output_type": "stream",
     "text": [
      "enter starting number: 1\n",
      "enter ending value: 5\n"
     ]
    },
    {
     "data": {
      "text/plain": [
       "5"
      ]
     },
     "execution_count": 121,
     "metadata": {},
     "output_type": "execute_result"
    }
   ],
   "source": [
    "# prime generation\n",
    "def prime_generation(a,b):\n",
    "    for i in range(1,b+1):\n",
    "        if count_factors(i)==2:\n",
    "            i+=1\n",
    "            return i\n",
    "a=int(input('enter starting number: '))\n",
    "b=int(input('enter ending value: '))\n",
    "prime_generation(a,b)"
   ]
  },
  {
   "cell_type": "markdown",
   "metadata": {},
   "source": [
    "##  **strings**\n",
    "+ **collection of characters or group of characters**\n",
    "+ **string will be represented by using....' ',\" \"**\n",
    "+ **it is an ordered data**\n",
    "+ **it is immutable data**\n",
    "+ **it accepts the indexing and slicing** "
   ]
  },
  {
   "cell_type": "code",
   "execution_count": 124,
   "metadata": {},
   "outputs": [
    {
     "data": {
      "text/plain": [
       "str"
      ]
     },
     "execution_count": 124,
     "metadata": {},
     "output_type": "execute_result"
    }
   ],
   "source": [
    "b='jsri123'#here numbers are also considered as char in string\n",
    "type(b)"
   ]
  },
  {
   "cell_type": "code",
   "execution_count": 126,
   "metadata": {},
   "outputs": [
    {
     "name": "stdout",
     "output_type": "stream",
     "text": [
      "python programming\n"
     ]
    }
   ],
   "source": [
    "s='python'\n",
    "s += ' programming'#here \"+\" is to contaminate\n",
    "print(s)"
   ]
  },
  {
   "cell_type": "code",
   "execution_count": 127,
   "metadata": {},
   "outputs": [
    {
     "data": {
      "text/plain": [
       "'p'"
      ]
     },
     "execution_count": 127,
     "metadata": {},
     "output_type": "execute_result"
    }
   ],
   "source": [
    "s[0]"
   ]
  },
  {
   "cell_type": "code",
   "execution_count": 128,
   "metadata": {},
   "outputs": [
    {
     "data": {
      "text/plain": [
       "'ytho'"
      ]
     },
     "execution_count": 128,
     "metadata": {},
     "output_type": "execute_result"
    }
   ],
   "source": [
    "s[1:5]"
   ]
  },
  {
   "cell_type": "markdown",
   "metadata": {},
   "source": [
    "#### indexing:\n",
    "- forward ==> 0 to len(s)-1\n",
    "+ reverse ==> -1 to -len(s)"
   ]
  },
  {
   "cell_type": "code",
   "execution_count": 137,
   "metadata": {},
   "outputs": [
    {
     "name": "stdout",
     "output_type": "stream",
     "text": [
      "i\n",
      "i\n",
      "b\n",
      "r\n"
     ]
    }
   ],
   "source": [
    "s='bannusri'\n",
    "len(s)\n",
    "a=s[len(s)-1]\n",
    "print(a)\n",
    "b=s[-1]\n",
    "print(b)\n",
    "c=s[-len(s)]\n",
    "print(c)\n",
    "d=s[-2]\n",
    "print(d)"
   ]
  },
  {
   "cell_type": "markdown",
   "metadata": {},
   "source": [
    "### slicing\n",
    "+ **var[start_val:end_val:inc/dec]**"
   ]
  },
  {
   "cell_type": "code",
   "execution_count": 160,
   "metadata": {},
   "outputs": [
    {
     "name": "stdout",
     "output_type": "stream",
     "text": [
      "python programming\n",
      "g\n",
      "tho\n",
      "pyth\n",
      "thon programming\n",
      "python programmin\n",
      "python progra\n",
      "mming\n",
      "programming\n",
      "program\n",
      "pto rgamn\n"
     ]
    }
   ],
   "source": [
    "s='python programming'\n",
    "print(s[ : ])\n",
    "print(s[10])\n",
    "print(s[2:5])\n",
    "print(s[:4])\n",
    "print(s[2: ])\n",
    "print(s[ :-1])\n",
    "print(s[:-5])\n",
    "print(s[-5:])\n",
    "print(s[-11:])\n",
    "print(s[7:14])\n",
    "print(s[0:18:2])\n"
   ]
  },
  {
   "cell_type": "code",
   "execution_count": 161,
   "metadata": {},
   "outputs": [
    {
     "name": "stdout",
     "output_type": "stream",
     "text": [
      "python programming\n"
     ]
    }
   ],
   "source": [
    "print(s)"
   ]
  },
  {
   "cell_type": "code",
   "execution_count": 41,
   "metadata": {},
   "outputs": [
    {
     "name": "stdout",
     "output_type": "stream",
     "text": [
      "n\n",
      "in\n",
      "gnimmargorp nohtyp\n",
      " nohtyp\n",
      "nohtypprogramming\n"
     ]
    },
    {
     "data": {
      "text/plain": [
       "'nohtyp  programming'"
      ]
     },
     "execution_count": 41,
     "metadata": {},
     "output_type": "execute_result"
    }
   ],
   "source": [
    "#reverse string\n",
    "s='python programming'\n",
    "print(s[-2:-1])\n",
    "print(s[-3:-1])\n",
    "#reverse\n",
    "print(s[::-1])\n",
    "print(s[-12::-1])\n",
    "s[7:18][::-1]\n",
    "print(s[-13::-1] + s[-11:18])\n",
    "s = s[0:6][::-1]+ ' ' +s[6:18]\n",
    "s"
   ]
  },
  {
   "cell_type": "code",
   "execution_count": 25,
   "metadata": {},
   "outputs": [
    {
     "name": "stdout",
     "output_type": "stream",
     "text": [
      "enter any string: malayalam\n"
     ]
    },
    {
     "data": {
      "text/plain": [
       "True"
      ]
     },
     "execution_count": 25,
     "metadata": {},
     "output_type": "execute_result"
    }
   ],
   "source": [
    "#palindrome\n",
    "def palindrome_check(word):\n",
    "    if word == word[::-1]:\n",
    "        return True\n",
    "    else:\n",
    "        return False\n",
    "word=str(input('enter any string: '))\n",
    "\n",
    "palindrome_check(word)\n",
    "      "
   ]
  },
  {
   "cell_type": "code",
   "execution_count": 42,
   "metadata": {},
   "outputs": [
    {
     "data": {
      "text/plain": [
       "['__add__',\n",
       " '__class__',\n",
       " '__contains__',\n",
       " '__delattr__',\n",
       " '__dir__',\n",
       " '__doc__',\n",
       " '__eq__',\n",
       " '__format__',\n",
       " '__ge__',\n",
       " '__getattribute__',\n",
       " '__getitem__',\n",
       " '__getnewargs__',\n",
       " '__gt__',\n",
       " '__hash__',\n",
       " '__init__',\n",
       " '__init_subclass__',\n",
       " '__iter__',\n",
       " '__le__',\n",
       " '__len__',\n",
       " '__lt__',\n",
       " '__mod__',\n",
       " '__mul__',\n",
       " '__ne__',\n",
       " '__new__',\n",
       " '__reduce__',\n",
       " '__reduce_ex__',\n",
       " '__repr__',\n",
       " '__rmod__',\n",
       " '__rmul__',\n",
       " '__setattr__',\n",
       " '__sizeof__',\n",
       " '__str__',\n",
       " '__subclasshook__',\n",
       " 'capitalize',\n",
       " 'casefold',\n",
       " 'center',\n",
       " 'count',\n",
       " 'encode',\n",
       " 'endswith',\n",
       " 'expandtabs',\n",
       " 'find',\n",
       " 'format',\n",
       " 'format_map',\n",
       " 'index',\n",
       " 'isalnum',\n",
       " 'isalpha',\n",
       " 'isdecimal',\n",
       " 'isdigit',\n",
       " 'isidentifier',\n",
       " 'islower',\n",
       " 'isnumeric',\n",
       " 'isprintable',\n",
       " 'isspace',\n",
       " 'istitle',\n",
       " 'isupper',\n",
       " 'join',\n",
       " 'ljust',\n",
       " 'lower',\n",
       " 'lstrip',\n",
       " 'maketrans',\n",
       " 'partition',\n",
       " 'replace',\n",
       " 'rfind',\n",
       " 'rindex',\n",
       " 'rjust',\n",
       " 'rpartition',\n",
       " 'rsplit',\n",
       " 'rstrip',\n",
       " 'split',\n",
       " 'splitlines',\n",
       " 'startswith',\n",
       " 'strip',\n",
       " 'swapcase',\n",
       " 'title',\n",
       " 'translate',\n",
       " 'upper',\n",
       " 'zfill']"
      ]
     },
     "execution_count": 42,
     "metadata": {},
     "output_type": "execute_result"
    }
   ],
   "source": [
    "#methods\n",
    "dir(str)"
   ]
  },
  {
   "cell_type": "code",
   "execution_count": null,
   "metadata": {},
   "outputs": [],
   "source": []
  }
 ],
 "metadata": {
  "kernelspec": {
   "display_name": "Python 3",
   "language": "python",
   "name": "python3"
  },
  "language_info": {
   "codemirror_mode": {
    "name": "ipython",
    "version": 3
   },
   "file_extension": ".py",
   "mimetype": "text/x-python",
   "name": "python",
   "nbconvert_exporter": "python",
   "pygments_lexer": "ipython3",
   "version": "3.6.5"
  }
 },
 "nbformat": 4,
 "nbformat_minor": 4
}
